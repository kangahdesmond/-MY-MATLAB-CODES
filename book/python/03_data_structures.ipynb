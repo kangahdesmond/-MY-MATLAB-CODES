{
  "cells": [
    {
      "cell_type": "markdown",
      "id": "0",
      "metadata": {
        "id": "0"
      },
      "source": [
        "# Data Structures\n",
        "\n",
        "[![Open In Colab](https://colab.research.google.com/assets/colab-badge.svg)](https://colab.research.google.com/github/giswqs/geog-510/blob/main/book/python/03_data_structures.ipynb)\n",
        "\n",
        "## Overview\n",
        "\n",
        "In this lecture, we will explore the fundamental Python data structures: Tuples, Lists, Sets, and Dictionaries. These data structures are essential tools in geospatial programming, enabling you to efficiently store, manage, and manipulate various types of data. By mastering these structures, you will be able to handle complex geospatial datasets with ease, paving the way for more advanced analysis and processing tasks.\n",
        "\n",
        "## Learning Objectives\n",
        "\n",
        "By the end of this lecture, you should be able to:\n",
        "\n",
        "- Understand the characteristics and use cases of Python tuples, lists, sets, and dictionaries.\n",
        "- Apply these data structures to store and manipulate geospatial data, such as coordinates, paths, and attribute information.\n",
        "- Differentiate between mutable and immutable data structures and choose the appropriate structure for different geospatial tasks.\n",
        "- Perform common operations on these data structures, including indexing, slicing, adding/removing elements, and updating values.\n",
        "- Utilize dictionaries to manage geospatial feature attributes and understand the importance of key-value pairs in geospatial data management."
      ]
    },
    {
      "cell_type": "markdown",
      "id": "1",
      "metadata": {
        "id": "1"
      },
      "source": [
        "## Tuples\n",
        "\n",
        "Tuples are immutable sequences, meaning that once a tuple is created, its elements cannot be changed. Tuples are useful for storing fixed collections of items.\n",
        "\n",
        "For example, a tuple can be used to store the coordinates of a geographic point (latitude, longitude)."
      ]
    },
    {
      "cell_type": "code",
      "execution_count": 1,
      "id": "2",
      "metadata": {
        "id": "2"
      },
      "outputs": [],
      "source": [
        "point = (\n",
        "    35.6895,\n",
        "    139.6917,\n",
        ")  # Tuple representing a geographic point (latitude, longitude)"
      ]
    },
    {
      "cell_type": "markdown",
      "id": "3",
      "metadata": {
        "id": "3"
      },
      "source": [
        "You can access elements in a tuple using indexing:"
      ]
    },
    {
      "cell_type": "code",
      "execution_count": 2,
      "id": "4",
      "metadata": {
        "id": "4",
        "outputId": "ad4e3551-8f81-49be-9373-02b94d55a23f",
        "colab": {
          "base_uri": "https://localhost:8080/"
        }
      },
      "outputs": [
        {
          "output_type": "stream",
          "name": "stdout",
          "text": [
            "Latitude: 35.6895, Longitude: 139.6917\n"
          ]
        }
      ],
      "source": [
        "latitude = point[0]\n",
        "longitude = point[1]\n",
        "print(f\"Latitude: {latitude}, Longitude: {longitude}\")"
      ]
    },
    {
      "cell_type": "code",
      "source": [
        "firt_name = \"Desmond\"\n",
        "surname = \"Kangah\"\n",
        "age = 34\n",
        "\n",
        "print(f\"Your name is {firt_name} with last name {surname}\")"
      ],
      "metadata": {
        "id": "zhJjuwPFKNZU",
        "outputId": "e1b00bf6-8d44-44b6-c852-df76601feddc",
        "colab": {
          "base_uri": "https://localhost:8080/"
        }
      },
      "id": "zhJjuwPFKNZU",
      "execution_count": 3,
      "outputs": [
        {
          "output_type": "stream",
          "name": "stdout",
          "text": [
            "Your name is Desmond with last name Kangah\n"
          ]
        }
      ]
    },
    {
      "cell_type": "markdown",
      "id": "5",
      "metadata": {
        "id": "5"
      },
      "source": [
        "## Lists\n",
        "\n",
        "Lists are ordered, mutable sequences, meaning you can change, add, or remove elements after the list has been created. Lists are very flexible and can store multiple types of data, making them useful for various geospatial tasks.\n",
        "\n",
        "For example, you can store a list of coordinates representing a path or boundary."
      ]
    },
    {
      "cell_type": "code",
      "execution_count": 4,
      "id": "6",
      "metadata": {
        "id": "6"
      },
      "outputs": [],
      "source": [
        "path = [\n",
        "    (35.6895, 139.6917),\n",
        "    (34.0522, -118.2437),\n",
        "    (51.5074, -0.1278),\n",
        "]  # List of tuples representing a path"
      ]
    },
    {
      "cell_type": "code",
      "source": [
        "print(f\"the first tuple {path[2]}\")"
      ],
      "metadata": {
        "id": "48i68ZAeKwbY",
        "outputId": "a38aa5c6-cae5-4365-a4b2-c982a55dfb2b",
        "colab": {
          "base_uri": "https://localhost:8080/"
        }
      },
      "id": "48i68ZAeKwbY",
      "execution_count": 5,
      "outputs": [
        {
          "output_type": "stream",
          "name": "stdout",
          "text": [
            "the first tuple (51.5074, -0.1278)\n"
          ]
        }
      ]
    },
    {
      "cell_type": "code",
      "source": [
        "path.append((48.8566, 2.3522))"
      ],
      "metadata": {
        "id": "tLKawoubLG8z"
      },
      "id": "tLKawoubLG8z",
      "execution_count": 6,
      "outputs": []
    },
    {
      "cell_type": "code",
      "source": [
        "print(f\"the updated_path: {path}\")"
      ],
      "metadata": {
        "id": "Qqb6WpcjLMcV",
        "outputId": "c37902b4-c0f0-481a-9a8d-8d07d3335d1b",
        "colab": {
          "base_uri": "https://localhost:8080/"
        }
      },
      "id": "Qqb6WpcjLMcV",
      "execution_count": 7,
      "outputs": [
        {
          "output_type": "stream",
          "name": "stdout",
          "text": [
            "the updated_path: [(35.6895, 139.6917), (34.0522, -118.2437), (51.5074, -0.1278), (48.8566, 2.3522)]\n"
          ]
        }
      ]
    },
    {
      "cell_type": "markdown",
      "id": "7",
      "metadata": {
        "id": "7"
      },
      "source": [
        "You can add a new point to the path:"
      ]
    },
    {
      "cell_type": "code",
      "execution_count": 8,
      "id": "8",
      "metadata": {
        "id": "8",
        "outputId": "083bb81a-df40-40a8-f0e5-56c43ce3434d",
        "colab": {
          "base_uri": "https://localhost:8080/"
        }
      },
      "outputs": [
        {
          "output_type": "stream",
          "name": "stdout",
          "text": [
            "Updated path: [(35.6895, 139.6917), (34.0522, -118.2437), (51.5074, -0.1278), (48.8566, 2.3522), (48.8566, 2.35234)]\n"
          ]
        }
      ],
      "source": [
        "path.append((48.8566, 2.35234))  # Adding Paris to the path\n",
        "print(\"Updated path:\", path)"
      ]
    },
    {
      "cell_type": "markdown",
      "id": "9",
      "metadata": {
        "id": "9"
      },
      "source": [
        "Lists allow you to perform various operations such as slicing, which lets you access a subset of the list:"
      ]
    },
    {
      "cell_type": "code",
      "execution_count": 9,
      "id": "10",
      "metadata": {
        "id": "10",
        "outputId": "e2bfb1a5-93c1-41a7-ef45-ec1996d95e9a",
        "colab": {
          "base_uri": "https://localhost:8080/"
        }
      },
      "outputs": [
        {
          "output_type": "stream",
          "name": "stdout",
          "text": [
            "Sub-path: [(35.6895, 139.6917), (34.0522, -118.2437)]\n"
          ]
        }
      ],
      "source": [
        "sub_path = path[:2]  # Slicing the first two points from the path\n",
        "print(\"Sub-path:\", sub_path)"
      ]
    },
    {
      "cell_type": "code",
      "source": [
        "last_path = path[:2]\n",
        "print(last_path)"
      ],
      "metadata": {
        "id": "XwRp5fM9MTk-",
        "outputId": "1bad1392-42ea-483a-a949-924e2333bd09",
        "colab": {
          "base_uri": "https://localhost:8080/"
        }
      },
      "id": "XwRp5fM9MTk-",
      "execution_count": 10,
      "outputs": [
        {
          "output_type": "stream",
          "name": "stdout",
          "text": [
            "[(35.6895, 139.6917), (34.0522, -118.2437)]\n"
          ]
        }
      ]
    },
    {
      "cell_type": "markdown",
      "id": "11",
      "metadata": {
        "id": "11"
      },
      "source": [
        "## Sets\n",
        "\n",
        "Sets are unordered collections of unique elements. Sets are useful when you need to store a collection of items but want to eliminate duplicates.\n",
        "\n",
        "For example, you might want to store a set of unique geographic regions visited during a survey."
      ]
    },
    {
      "cell_type": "code",
      "execution_count": 11,
      "id": "12",
      "metadata": {
        "id": "12"
      },
      "outputs": [],
      "source": [
        "regions = [\"North America\", \"Europe\", \"Asia\"]  # Set of regions\n",
        "regions = set(regions)"
      ]
    },
    {
      "cell_type": "code",
      "source": [
        "regions"
      ],
      "metadata": {
        "id": "q3kO3KnaND88",
        "outputId": "98d87971-b29d-4806-bb9d-484601c06307",
        "colab": {
          "base_uri": "https://localhost:8080/"
        }
      },
      "id": "q3kO3KnaND88",
      "execution_count": 12,
      "outputs": [
        {
          "output_type": "execute_result",
          "data": {
            "text/plain": [
              "{'Asia', 'Europe', 'North America'}"
            ]
          },
          "metadata": {},
          "execution_count": 12
        }
      ]
    },
    {
      "cell_type": "code",
      "source": [
        "names = ['Kangah','Adwoa', 'Esi','Kua','Maame']\n",
        "names = set(names)"
      ],
      "metadata": {
        "id": "_ikpVqB-NJsc"
      },
      "id": "_ikpVqB-NJsc",
      "execution_count": 13,
      "outputs": []
    },
    {
      "cell_type": "code",
      "source": [
        "names"
      ],
      "metadata": {
        "id": "yni9w-qUNXE8",
        "outputId": "48945c8d-1a69-4a21-9c2a-cd8a479ba477",
        "colab": {
          "base_uri": "https://localhost:8080/"
        }
      },
      "id": "yni9w-qUNXE8",
      "execution_count": 14,
      "outputs": [
        {
          "output_type": "execute_result",
          "data": {
            "text/plain": [
              "{'Adwoa', 'Esi', 'Kangah', 'Kua', 'Maame'}"
            ]
          },
          "metadata": {},
          "execution_count": 14
        }
      ]
    },
    {
      "cell_type": "code",
      "source": [
        "last = names.pop()\n",
        "last"
      ],
      "metadata": {
        "id": "mQO4sFAoNd05",
        "outputId": "72ca0ed6-b601-4e8f-91c0-8fe7e00a78b2",
        "colab": {
          "base_uri": "https://localhost:8080/",
          "height": 35
        }
      },
      "id": "mQO4sFAoNd05",
      "execution_count": 15,
      "outputs": [
        {
          "output_type": "execute_result",
          "data": {
            "text/plain": [
              "'Kangah'"
            ],
            "application/vnd.google.colaboratory.intrinsic+json": {
              "type": "string"
            }
          },
          "metadata": {},
          "execution_count": 15
        }
      ]
    },
    {
      "cell_type": "markdown",
      "id": "13",
      "metadata": {
        "id": "13"
      },
      "source": [
        "You can add a new region to the set:"
      ]
    },
    {
      "cell_type": "code",
      "execution_count": 16,
      "id": "14",
      "metadata": {
        "id": "14",
        "outputId": "3a1d6947-31d0-48fa-ca17-877909a00773",
        "colab": {
          "base_uri": "https://localhost:8080/"
        }
      },
      "outputs": [
        {
          "output_type": "stream",
          "name": "stdout",
          "text": [
            "Updated regions: {'Europe', 'Asia', 'Africa', 'North America'}\n"
          ]
        }
      ],
      "source": [
        "regions.add(\"Africa\")\n",
        "print(\"Updated regions:\", regions)"
      ]
    },
    {
      "cell_type": "markdown",
      "id": "15",
      "metadata": {
        "id": "15"
      },
      "source": [
        "Since sets do not allow duplicates, adding an existing region will not change the set:"
      ]
    },
    {
      "cell_type": "code",
      "execution_count": 17,
      "id": "16",
      "metadata": {
        "id": "16",
        "outputId": "63d6b961-3037-4ee9-bc48-474a8af951fd",
        "colab": {
          "base_uri": "https://localhost:8080/"
        }
      },
      "outputs": [
        {
          "output_type": "stream",
          "name": "stdout",
          "text": [
            "Regions after attempting to add duplicate: {'Europe', 'Asia', 'Africa', 'North America'}\n"
          ]
        }
      ],
      "source": [
        "regions.add(\"Europe\")  # Attempting to add a duplicate element\n",
        "print(\"Regions after attempting to add duplicate:\", regions)"
      ]
    },
    {
      "cell_type": "markdown",
      "id": "17",
      "metadata": {
        "id": "17"
      },
      "source": [
        "## Dictionaries\n",
        "\n",
        "Dictionaries are collections of key-value pairs, where each key is unique. Dictionaries are extremely useful for storing data that is associated with specific identifiers, such as attribute data for geographic features.\n",
        "\n",
        "For example, you can use a dictionary to store attributes of a geospatial feature, such as a city."
      ]
    },
    {
      "cell_type": "code",
      "execution_count": 18,
      "id": "18",
      "metadata": {
        "id": "18"
      },
      "outputs": [],
      "source": [
        "city_attributes = {\n",
        "    \"name\": \"Tokyo\",\n",
        "    \"population\": 13929286,\n",
        "    \"coordinates\": (35.6895, 139.6917),\n",
        "}  # Dictionary storing attributes of a city"
      ]
    },
    {
      "cell_type": "markdown",
      "id": "19",
      "metadata": {
        "id": "19"
      },
      "source": [
        "You can access the values associated with specific keys:"
      ]
    },
    {
      "cell_type": "code",
      "execution_count": 19,
      "id": "20",
      "metadata": {
        "id": "20",
        "outputId": "715182c1-3c56-4ba2-c2b7-e3c2dbc2c955",
        "colab": {
          "base_uri": "https://localhost:8080/"
        }
      },
      "outputs": [
        {
          "output_type": "stream",
          "name": "stdout",
          "text": [
            "City: Tokyo, Population: 13929286\n"
          ]
        }
      ],
      "source": [
        "city_name = city_attributes[\"name\"]\n",
        "city_population = city_attributes[\"population\"]\n",
        "print(f\"City: {city_name}, Population: {city_population}\")"
      ]
    },
    {
      "cell_type": "code",
      "source": [
        "family = {\n",
        "    \"father\": \"Roland Kangah\",\n",
        "    \"father_age\": 58,\n",
        "    \"mother_age\": 56,\n",
        "    \"senior\": \"Desmond Kangah\",\n",
        "    \"senior_age\": 34,\n",
        "}"
      ],
      "metadata": {
        "id": "4_aLH3Glfpgj"
      },
      "id": "4_aLH3Glfpgj",
      "execution_count": 20,
      "outputs": []
    },
    {
      "cell_type": "code",
      "source": [
        "father = family[\"father\"]\n",
        "mother = family[\"mother_age\"]\n",
        "print(f\"Father: {father}, Mother: {mother}\")"
      ],
      "metadata": {
        "id": "dIVrMXOXgMVq",
        "outputId": "7d8dd720-3498-4321-9021-d5e19968df7b",
        "colab": {
          "base_uri": "https://localhost:8080/"
        }
      },
      "id": "dIVrMXOXgMVq",
      "execution_count": 21,
      "outputs": [
        {
          "output_type": "stream",
          "name": "stdout",
          "text": [
            "Father: Roland Kangah, Mother: 56\n"
          ]
        }
      ]
    },
    {
      "cell_type": "code",
      "source": [
        "family[\"mother_name\"] = \"Grace Kangah\""
      ],
      "metadata": {
        "id": "dcOgp7DqgoiD"
      },
      "id": "dcOgp7DqgoiD",
      "execution_count": 22,
      "outputs": []
    },
    {
      "cell_type": "code",
      "source": [
        "family.keys()"
      ],
      "metadata": {
        "id": "sMyYVFTAg2MJ",
        "outputId": "bcdf088c-76aa-47ce-d229-32e642da27f1",
        "colab": {
          "base_uri": "https://localhost:8080/"
        }
      },
      "id": "sMyYVFTAg2MJ",
      "execution_count": 24,
      "outputs": [
        {
          "output_type": "execute_result",
          "data": {
            "text/plain": [
              "dict_keys(['father', 'father_age', 'mother_age', 'senior', 'senior_age', 'mother_name'])"
            ]
          },
          "metadata": {},
          "execution_count": 24
        }
      ]
    },
    {
      "cell_type": "markdown",
      "id": "21",
      "metadata": {
        "id": "21"
      },
      "source": [
        "You can also add or update key-value pairs in a dictionary:"
      ]
    },
    {
      "cell_type": "code",
      "execution_count": 25,
      "id": "22",
      "metadata": {
        "id": "22",
        "outputId": "ae730ed7-ab0a-4e21-c315-d2cabf0ff983",
        "colab": {
          "base_uri": "https://localhost:8080/"
        }
      },
      "outputs": [
        {
          "output_type": "stream",
          "name": "stdout",
          "text": [
            "Updated city attributes: {'name': 'Tokyo', 'population': 13929286, 'coordinates': (35.6895, 139.6917), 'area_km2': 2191}\n"
          ]
        }
      ],
      "source": [
        "city_attributes[\"area_km2\"] = 2191  # Adding the area of the city in square kilometers\n",
        "print(\"Updated city attributes:\", city_attributes)"
      ]
    },
    {
      "cell_type": "markdown",
      "id": "23",
      "metadata": {
        "id": "23"
      },
      "source": [
        "## Exercises\n",
        "\n",
        "Create a dictionary to store attributes of a geographic feature (e.g., a river or mountain). Include keys for the name, length, and location of the feature. Then, add an additional attribute (e.g., the source of the river or the height of the mountain) and print the dictionary."
      ]
    },
    {
      "cell_type": "code",
      "execution_count": 26,
      "id": "24",
      "metadata": {
        "id": "24",
        "outputId": "54d12e11-c1e6-4daf-95ef-2e5a6c0f821c",
        "colab": {
          "base_uri": "https://localhost:8080/"
        }
      },
      "outputs": [
        {
          "output_type": "stream",
          "name": "stdout",
          "text": [
            "missisipi is a river with color blue, height 1234km and length 2345448km\n"
          ]
        }
      ],
      "source": [
        "missisipi_river = {\n",
        "    \"color\":\"blue\",\n",
        "    \"height\":\"1234km\",\n",
        "    \"length\":\"2345448km\",\n",
        "    \"name\": \"missisipi\"\n",
        "}\n",
        "print(f\"missisipi is a river with color {missisipi_river['color']}, height {missisipi_river['height']} and length {missisipi_river['length']}\")"
      ]
    },
    {
      "cell_type": "markdown",
      "id": "25",
      "metadata": {
        "id": "25"
      },
      "source": [
        "## Summary\n",
        "\n",
        "Understanding and utilizing Python's data structures such as tuples, lists, sets, and dictionaries are fundamental skills in geospatial programming. These structures provide the flexibility and functionality required to manage and manipulate spatial data effectively.\n",
        "\n",
        "Continue exploring these data structures by applying them to your geospatial projects and analyses."
      ]
    }
  ],
  "metadata": {
    "kernelspec": {
      "display_name": "Python 3",
      "language": "python",
      "name": "python3"
    },
    "language_info": {
      "codemirror_mode": {
        "name": "ipython",
        "version": 3
      },
      "file_extension": ".py",
      "mimetype": "text/x-python",
      "name": "python",
      "nbconvert_exporter": "python",
      "pygments_lexer": "ipython3",
      "version": "3.11.8"
    },
    "colab": {
      "provenance": []
    }
  },
  "nbformat": 4,
  "nbformat_minor": 5
}