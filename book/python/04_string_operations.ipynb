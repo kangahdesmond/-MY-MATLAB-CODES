{
  "cells": [
    {
      "cell_type": "markdown",
      "id": "0",
      "metadata": {
        "id": "0"
      },
      "source": [
        "# String Operations\n",
        "\n",
        "[![Open In Colab](https://colab.research.google.com/assets/colab-badge.svg)](https://colab.research.google.com/github/giswqs/geog-510/blob/main/book/python/04_string_operations.ipynb)\n",
        "\n",
        "## Overview\n",
        "\n",
        "This lecture will cover various string operations in Python, with a focus on their application in geospatial contexts. Strings are fundamental in handling textual data, such as names of geographic locations, coordinates, and data extracted from text files. Mastering string operations allows you to effectively manipulate and analyze geographic information, which is essential for tasks like data cleaning, formatting, parsing, and even geocoding.\n",
        "\n",
        "## Learning Objectives\n",
        "\n",
        "By the end of this lecture, you should be able to:\n",
        "\n",
        "- Create and manipulate strings in Python, including concatenation and repetition.\n",
        "- Apply string methods such as `lower()`, `upper()`, `strip()`, `replace()`, and `split()` to process geospatial data.\n",
        "- Format strings using the `format()` method and f-strings to include variable data within strings.\n",
        "- Parse and extract specific information from strings, such as coordinates or location names.\n",
        "- Utilize string operations in practical geospatial tasks, enhancing your ability to work with and manage geographic data."
      ]
    },
    {
      "cell_type": "markdown",
      "id": "1",
      "metadata": {
        "id": "1"
      },
      "source": [
        "## Creating and Manipulating Strings\n",
        "\n",
        "Strings in Python are sequences of characters. You can create a string by enclosing characters in single or double quotes."
      ]
    },
    {
      "cell_type": "code",
      "execution_count": 1,
      "id": "2",
      "metadata": {
        "id": "2"
      },
      "outputs": [],
      "source": [
        "location_name = \"Mount Everest\"  # A string representing the name of a location"
      ]
    },
    {
      "cell_type": "markdown",
      "id": "3",
      "metadata": {
        "id": "3"
      },
      "source": [
        "You can concatenate (join) strings using the `+` operator:"
      ]
    },
    {
      "cell_type": "code",
      "execution_count": 2,
      "id": "4",
      "metadata": {
        "id": "4",
        "outputId": "13eec16e-6c28-4f50-a55e-4431a273a742",
        "colab": {
          "base_uri": "https://localhost:8080/"
        }
      },
      "outputs": [
        {
          "output_type": "stream",
          "name": "stdout",
          "text": [
            "Mount Everest, Nepal\n"
          ]
        }
      ],
      "source": [
        "location_name_full = location_name + \", Nepal\"\n",
        "print(location_name_full)"
      ]
    },
    {
      "cell_type": "markdown",
      "id": "5",
      "metadata": {
        "id": "5"
      },
      "source": [
        "You can also repeat strings using the `*` operator:"
      ]
    },
    {
      "cell_type": "code",
      "execution_count": 3,
      "id": "6",
      "metadata": {
        "id": "6",
        "outputId": "3348f9a3-e91b-48f0-a7fb-f96c2ec35b3d",
        "colab": {
          "base_uri": "https://localhost:8080/"
        }
      },
      "outputs": [
        {
          "output_type": "stream",
          "name": "stdout",
          "text": [
            "----------\n"
          ]
        }
      ],
      "source": [
        "separator = \"-\" * 10\n",
        "print(separator)"
      ]
    },
    {
      "cell_type": "markdown",
      "id": "7",
      "metadata": {
        "id": "7"
      },
      "source": [
        "Let's construct a basic SQL query string to select data from a geospatial database:"
      ]
    },
    {
      "cell_type": "code",
      "execution_count": 4,
      "id": "8",
      "metadata": {
        "id": "8",
        "outputId": "962e8166-2be3-4358-aad6-3b4c9c8d3cc7",
        "colab": {
          "base_uri": "https://localhost:8080/"
        }
      },
      "outputs": [
        {
          "output_type": "stream",
          "name": "stdout",
          "text": [
            "SELECT * FROM locations WHERE country = 'Nepal';\n"
          ]
        }
      ],
      "source": [
        "table_name = \"locations\"\n",
        "condition = \"country = 'Nepal'\"\n",
        "sql_query = f\"SELECT * FROM {table_name} WHERE {condition};\"\n",
        "print(sql_query)"
      ]
    },
    {
      "cell_type": "markdown",
      "id": "9",
      "metadata": {
        "id": "9"
      },
      "source": [
        "In more complex scenarios, you might want to dynamically build queries based on user input or multiple conditions."
      ]
    },
    {
      "cell_type": "markdown",
      "id": "10",
      "metadata": {
        "id": "10"
      },
      "source": [
        "## String Methods for Geospatial Data\n",
        "\n",
        "Python provides various built-in methods to manipulate strings. Some commonly used methods include:\n",
        "\n",
        "- `lower()`, `upper()`: Convert strings to lowercase or uppercase.\n",
        "- `strip()`: Remove leading and trailing whitespace.\n",
        "- `lstrip()`, `rstrip()`: Remove leading or trailing whitespace.\n",
        "- `replace()`: Replace a substring with another substring.\n",
        "- `split()`: Split a string into a list of substrings based on a delimiter.\n",
        "- `join()`: Join a list of strings into a single string with a specified delimiter."
      ]
    },
    {
      "cell_type": "code",
      "execution_count": 5,
      "id": "11",
      "metadata": {
        "id": "11",
        "outputId": "2869a211-0019-4d83-bb76-4ce0b5f3a20c",
        "colab": {
          "base_uri": "https://localhost:8080/"
        }
      },
      "outputs": [
        {
          "output_type": "stream",
          "name": "stdout",
          "text": [
            "MOUNT EVEREST\n"
          ]
        }
      ],
      "source": [
        "location_name_upper = location_name.upper()\n",
        "print(location_name_upper)  # Convert to uppercase"
      ]
    },
    {
      "cell_type": "code",
      "execution_count": 6,
      "id": "12",
      "metadata": {
        "id": "12",
        "outputId": "87839c3a-4aca-4904-c503-a6b58e1fe577",
        "colab": {
          "base_uri": "https://localhost:8080/"
        }
      },
      "outputs": [
        {
          "output_type": "stream",
          "name": "stdout",
          "text": [
            "Mount Everest\n"
          ]
        }
      ],
      "source": [
        "location_name_clean = location_name.strip()\n",
        "print(location_name_clean)  # Remove leading/trailing whitespace"
      ]
    },
    {
      "cell_type": "code",
      "source": [
        "name  = \"DESMOND KANGAH\"\n",
        "n_strip = name.strip()\n",
        "print(n_strip)"
      ],
      "metadata": {
        "id": "Tpkv9_jhknSu",
        "outputId": "40fba239-d3a0-4c37-eeac-77bfef3465f3",
        "colab": {
          "base_uri": "https://localhost:8080/"
        }
      },
      "id": "Tpkv9_jhknSu",
      "execution_count": 7,
      "outputs": [
        {
          "output_type": "stream",
          "name": "stdout",
          "text": [
            "DESMOND KANGAH\n"
          ]
        }
      ]
    },
    {
      "cell_type": "code",
      "execution_count": 8,
      "id": "13",
      "metadata": {
        "id": "13",
        "outputId": "2739a512-f71d-4ac2-d589-82b8d6d90dfa",
        "colab": {
          "base_uri": "https://localhost:8080/"
        }
      },
      "outputs": [
        {
          "output_type": "stream",
          "name": "stdout",
          "text": [
            "Mount K2\n"
          ]
        }
      ],
      "source": [
        "location_name_replaced = location_name.replace(\"Everest\", \"K2\")\n",
        "print(location_name_replaced)  # Replace 'Everest' with 'K2'"
      ]
    },
    {
      "cell_type": "code",
      "execution_count": 9,
      "id": "14",
      "metadata": {
        "id": "14",
        "outputId": "26f80c3a-2e75-4c71-93c8-72c5b76d1f2e",
        "colab": {
          "base_uri": "https://localhost:8080/"
        }
      },
      "outputs": [
        {
          "output_type": "stream",
          "name": "stdout",
          "text": [
            "['Mount Everest', 'Nepal']\n"
          ]
        }
      ],
      "source": [
        "location_parts = location_name_full.split(\", \")\n",
        "print(location_parts)  # Split the string into a list"
      ]
    },
    {
      "cell_type": "markdown",
      "id": "15",
      "metadata": {
        "id": "15"
      },
      "source": [
        "Suppose you have a list of country names with inconsistent formatting, and you want to normalize them:"
      ]
    },
    {
      "cell_type": "code",
      "execution_count": 10,
      "id": "16",
      "metadata": {
        "id": "16",
        "outputId": "b96a792e-cc12-4255-bf2c-79145914a88b",
        "colab": {
          "base_uri": "https://localhost:8080/"
        }
      },
      "outputs": [
        {
          "output_type": "stream",
          "name": "stdout",
          "text": [
            "['Nepal', 'India', 'China', 'Bhutan']\n"
          ]
        }
      ],
      "source": [
        "countries = [\" nepal\", \"INDIA \", \"china \", \"Bhutan\"]\n",
        "normalized_countries = [country.strip().title() for country in countries]\n",
        "print(normalized_countries)"
      ]
    },
    {
      "cell_type": "code",
      "source": [
        "country = \"  Ghana \\n\"\n",
        "clean_country = country.strip()\n",
        "print(clean_country)  # Output: \"Ghana\"\n"
      ],
      "metadata": {
        "id": "gQV9n3xKlgrX",
        "outputId": "5e6e1fa7-ddaf-4b80-df4f-685d9d08a06f",
        "colab": {
          "base_uri": "https://localhost:8080/"
        }
      },
      "id": "gQV9n3xKlgrX",
      "execution_count": 13,
      "outputs": [
        {
          "output_type": "stream",
          "name": "stdout",
          "text": [
            "Ghana\n"
          ]
        }
      ]
    },
    {
      "cell_type": "code",
      "source": [
        "names = ['john', '  CuRTis','DESmond']\n",
        "corrected_names = [name.strip().title() for name in names]\n",
        "print(corrected_names)"
      ],
      "metadata": {
        "id": "y8TWyBFBlsLO",
        "outputId": "67214f28-431f-4c0f-b408-3c6c39ac385f",
        "colab": {
          "base_uri": "https://localhost:8080/"
        }
      },
      "id": "y8TWyBFBlsLO",
      "execution_count": 14,
      "outputs": [
        {
          "output_type": "stream",
          "name": "stdout",
          "text": [
            "['John', 'Curtis', 'Desmond']\n"
          ]
        }
      ]
    },
    {
      "cell_type": "code",
      "source": [
        "county = ['   TexAS', 'MICHIgan', 'LOUisiana   ']\n",
        "clean_county = [count.strip().title() for count in county]\n",
        "print(clean_county)"
      ],
      "metadata": {
        "id": "OfosBQAAmf5Y",
        "outputId": "db1533d1-95c9-4385-f574-4038d2d8b85a",
        "colab": {
          "base_uri": "https://localhost:8080/"
        }
      },
      "id": "OfosBQAAmf5Y",
      "execution_count": 15,
      "outputs": [
        {
          "output_type": "stream",
          "name": "stdout",
          "text": [
            "['Texas', 'Michigan', 'Louisiana']\n"
          ]
        }
      ]
    },
    {
      "cell_type": "markdown",
      "id": "17",
      "metadata": {
        "id": "17"
      },
      "source": [
        "This operation removes any leading/trailing spaces and ensures consistent capitalization."
      ]
    },
    {
      "cell_type": "markdown",
      "id": "18",
      "metadata": {
        "id": "18"
      },
      "source": [
        "## Formatting Strings\n",
        "\n",
        "String formatting is essential when preparing data for output or when you need to include variable values in strings. You can use the `format()` method or f-strings (in Python 3.6 and above) for string formatting."
      ]
    },
    {
      "cell_type": "code",
      "execution_count": 16,
      "id": "19",
      "metadata": {
        "id": "19",
        "outputId": "9c711635-1037-4fd8-f303-e89a87fb9022",
        "colab": {
          "base_uri": "https://localhost:8080/"
        }
      },
      "outputs": [
        {
          "output_type": "stream",
          "name": "stdout",
          "text": [
            "Coordinates: (27.9881, 86.925)\n"
          ]
        }
      ],
      "source": [
        "latitude = 27.9881\n",
        "longitude = 86.9250\n",
        "formatted_coordinates = \"Coordinates: ({}, {})\".format(latitude, longitude)\n",
        "print(formatted_coordinates)"
      ]
    },
    {
      "cell_type": "code",
      "source": [
        "lat_LSU = 34.5749\n",
        "long_LSU = 98.374830\n",
        "formatted_coord = \"coord: ({}, {})\".format(lat_LSU, long_LSU)\n",
        "print(formatted_coord)"
      ],
      "metadata": {
        "id": "l8V09xLXnboJ",
        "outputId": "ab8c39cf-67f3-4ca0-eb53-6c7eb52272ec",
        "colab": {
          "base_uri": "https://localhost:8080/"
        }
      },
      "id": "l8V09xLXnboJ",
      "execution_count": 18,
      "outputs": [
        {
          "output_type": "stream",
          "name": "stdout",
          "text": [
            "coord: (34.5749, 98.37483)\n"
          ]
        }
      ]
    },
    {
      "cell_type": "code",
      "execution_count": 17,
      "id": "20",
      "metadata": {
        "id": "20",
        "outputId": "607d03ad-3247-49a6-9f74-21e4fcf31f0b",
        "colab": {
          "base_uri": "https://localhost:8080/"
        }
      },
      "outputs": [
        {
          "output_type": "stream",
          "name": "stdout",
          "text": [
            "Coordinates: (27.9881, 86.925)\n"
          ]
        }
      ],
      "source": [
        "formatted_coordinates_fstring = f\"Coordinates: ({latitude}, {longitude})\"\n",
        "print(formatted_coordinates_fstring)"
      ]
    },
    {
      "cell_type": "markdown",
      "id": "21",
      "metadata": {
        "id": "21"
      },
      "source": [
        "Well-Known Text (WKT) is a text markup language for representing vector geometry objects. Let's format a string to represent a POINT geometry:"
      ]
    },
    {
      "cell_type": "code",
      "execution_count": 19,
      "id": "22",
      "metadata": {
        "id": "22",
        "outputId": "dbc48f1c-7750-4616-97f8-412128ac6fe4",
        "colab": {
          "base_uri": "https://localhost:8080/"
        }
      },
      "outputs": [
        {
          "output_type": "stream",
          "name": "stdout",
          "text": [
            "POINT(86.925 27.9881)\n"
          ]
        }
      ],
      "source": [
        "wkt_point = f\"POINT({longitude} {latitude})\"\n",
        "print(wkt_point)"
      ]
    },
    {
      "cell_type": "markdown",
      "id": "23",
      "metadata": {
        "id": "23"
      },
      "source": [
        "## Parsing and Extracting Information from Strings\n",
        "\n",
        "Often, you will need to extract specific information from strings, especially when dealing with geographic data. For example, you might need to extract coordinates from a formatted string."
      ]
    },
    {
      "cell_type": "code",
      "execution_count": 20,
      "id": "24",
      "metadata": {
        "id": "24",
        "outputId": "193133a8-c2a6-456d-ff58-0892db4c0042",
        "colab": {
          "base_uri": "https://localhost:8080/"
        }
      },
      "outputs": [
        {
          "output_type": "stream",
          "name": "stdout",
          "text": [
            "Parsed coordinates: (27.9881, 86.925)\n"
          ]
        }
      ],
      "source": [
        "coordinate_string = \"27.9881N, 86.9250E\"\n",
        "lat_str, lon_str = coordinate_string.split(\", \")\n",
        "latitude = float(lat_str[:-1])  # Convert string to float and remove the 'N'\n",
        "longitude = float(lon_str[:-1])  # Convert string to float and remove the 'E'\n",
        "print(f\"Parsed coordinates: ({latitude}, {longitude})\")"
      ]
    },
    {
      "cell_type": "code",
      "source": [
        "LSU_center = \"34.5749N, 98.3789E\"\n",
        "lsu_lat, lsu_long = LSU_center.split(\", \")\n",
        "Latitude_lsu = float(lsu_lat[:-1])\n",
        "Longitude_lsu = float(lsu_long[:-1])\n",
        "print(f\"Parsed coordinates: ({Latitude_lsu}, {Longitude_lsu})\")"
      ],
      "metadata": {
        "id": "MMjIs-OEonRN",
        "outputId": "c26cfe92-fffc-4af3-9f7b-6ba9a358fe9b",
        "colab": {
          "base_uri": "https://localhost:8080/"
        }
      },
      "id": "MMjIs-OEonRN",
      "execution_count": 21,
      "outputs": [
        {
          "output_type": "stream",
          "name": "stdout",
          "text": [
            "Parsed coordinates: (34.5749, 98.3789)\n"
          ]
        }
      ]
    },
    {
      "cell_type": "markdown",
      "id": "25",
      "metadata": {
        "id": "25"
      },
      "source": [
        "If you have a list of addresses in the format \"Street, City, Country\", you might want to parse and extract each component:"
      ]
    },
    {
      "cell_type": "code",
      "execution_count": 22,
      "id": "26",
      "metadata": {
        "id": "26",
        "outputId": "29e51f94-fe99-446f-ba9c-da65c64bf215",
        "colab": {
          "base_uri": "https://localhost:8080/"
        }
      },
      "outputs": [
        {
          "output_type": "stream",
          "name": "stdout",
          "text": [
            "Street: 123 Everest Rd, City: Kathmandu, Country: Nepal\n"
          ]
        }
      ],
      "source": [
        "address = \"123 Everest Rd, Kathmandu, Nepal\"\n",
        "street, city, country = address.split(\", \")\n",
        "print(f\"Street: {street}, City: {city}, Country: {country}\")"
      ]
    },
    {
      "cell_type": "markdown",
      "id": "27",
      "metadata": {
        "id": "27"
      },
      "source": [
        "## Exercises\n",
        "\n",
        "1. Create a string representing the name of a city. Convert the string to lowercase and then to uppercase.\n",
        "2. Take a string with the format 'latitude, longitude' (e.g., '40.7128N, 74.0060W') and extract the numeric values of latitude and longitude.\n",
        "3. Create a formatted string that includes the name of a location and its coordinates. Use both the `format()` method and f-strings to achieve this.\n",
        "4. Replace a substring in the name of a place (e.g., change 'San Francisco' to 'San Diego') and print the result.\n",
        "5. Given a list of addresses in the format \"Street, City, Country\", write a function to parse and return a dictionary with keys `street`, `city`, and `country`.\n",
        "6. Write a function that converts a pair of latitude and longitude coordinates into a WKT `POINT` string."
      ]
    },
    {
      "cell_type": "code",
      "execution_count": 23,
      "id": "28",
      "metadata": {
        "id": "28",
        "outputId": "454a0759-d14b-4d1e-b86e-c517e41d481f",
        "colab": {
          "base_uri": "https://localhost:8080/"
        }
      },
      "outputs": [
        {
          "output_type": "stream",
          "name": "stdout",
          "text": [
            "akwidaa\n",
            "AKWIDAA\n"
          ]
        }
      ],
      "source": [
        "##1\n",
        "Town_name = \"Akwidaa\"\n",
        "Town_to_lower = Town_name.lower()\n",
        "Town_to_Upper = Town_name.upper()\n",
        "print(Town_to_lower)\n",
        "print(Town_to_Upper)"
      ]
    },
    {
      "cell_type": "code",
      "source": [
        "## Exercises\n",
        "My_apart = '40.7128N, 74.0060W'\n",
        "lat_room, long_room = My_apart.split(\", \")\n",
        "myroom_lat = float(lat_room[:-1])\n",
        "myroom_long = float(long_room[:-1])\n",
        "print(f\"Parsed coordinates: ({myroom_lat}, {myroom_long})\")"
      ],
      "metadata": {
        "id": "6AfDdHSwqE6y",
        "outputId": "e64b31b1-3598-47b9-d2a9-889d2d679a89",
        "colab": {
          "base_uri": "https://localhost:8080/"
        }
      },
      "id": "6AfDdHSwqE6y",
      "execution_count": 24,
      "outputs": [
        {
          "output_type": "stream",
          "name": "stdout",
          "text": [
            "Parsed coordinates: (40.7128, 74.006)\n"
          ]
        }
      ]
    },
    {
      "cell_type": "code",
      "source": [
        "latitude = \"40.7128\"\n",
        "longitude = \"74.0060\"\n",
        "my_formatted = \"my_room_coord: ({},{})\".format(latitude, longitude)\n",
        "print(my_formatted)"
      ],
      "metadata": {
        "id": "gt3LZcRxsIFc",
        "outputId": "c6c95a65-b8b6-4bf1-e9fd-2b103d9afc71",
        "colab": {
          "base_uri": "https://localhost:8080/"
        }
      },
      "id": "gt3LZcRxsIFc",
      "execution_count": 25,
      "outputs": [
        {
          "output_type": "stream",
          "name": "stdout",
          "text": [
            "my_room_coord: (40.7128,74.0060)\n"
          ]
        }
      ]
    },
    {
      "cell_type": "code",
      "source": [
        "f_coordinate = f\"my_room_coord: ({latitude}, {longitude})\"\n",
        "print(f_coordinate)"
      ],
      "metadata": {
        "id": "85B2zixktFXk",
        "outputId": "bf87e454-4e80-45a9-deb7-cb97f0f57e37",
        "colab": {
          "base_uri": "https://localhost:8080/"
        }
      },
      "id": "85B2zixktFXk",
      "execution_count": 26,
      "outputs": [
        {
          "output_type": "stream",
          "name": "stdout",
          "text": [
            "my_room_coord: (40.7128, 74.0060)\n"
          ]
        }
      ]
    },
    {
      "cell_type": "code",
      "source": [
        "name = \"San Francisco\""
      ],
      "metadata": {
        "id": "z3gr1mG1tYUf"
      },
      "id": "z3gr1mG1tYUf",
      "execution_count": 27,
      "outputs": []
    },
    {
      "cell_type": "code",
      "source": [
        "name.replace(\"San Francisco\", \"San Diego\")"
      ],
      "metadata": {
        "id": "p8fj6ywQtcy-",
        "outputId": "6dfe25e2-6dfb-4b34-c3e1-da8d9d989c06",
        "colab": {
          "base_uri": "https://localhost:8080/",
          "height": 35
        }
      },
      "id": "p8fj6ywQtcy-",
      "execution_count": 28,
      "outputs": [
        {
          "output_type": "execute_result",
          "data": {
            "text/plain": [
              "'San Diego'"
            ],
            "application/vnd.google.colaboratory.intrinsic+json": {
              "type": "string"
            }
          },
          "metadata": {},
          "execution_count": 28
        }
      ]
    },
    {
      "cell_type": "code",
      "source": [
        "my_apart = \"1443 Brightside, Campus Crossing, Baton Rouge, Louisiana\""
      ],
      "metadata": {
        "id": "uKFzh5ZMtrsH"
      },
      "id": "uKFzh5ZMtrsH",
      "execution_count": 29,
      "outputs": []
    },
    {
      "cell_type": "code",
      "source": [
        "my_address = my_apart.split(\",\")\n",
        "print(f\"I stay at street: {my_address[0]} at apartment: {my_address[1]} in the city: {my_address[2]} at the state: {my_address[3]}\")\n"
      ],
      "metadata": {
        "id": "NOZsbu85uE-y",
        "outputId": "088163f3-3e19-437a-b9ec-cd9a7b8dc237",
        "colab": {
          "base_uri": "https://localhost:8080/"
        }
      },
      "id": "NOZsbu85uE-y",
      "execution_count": 31,
      "outputs": [
        {
          "output_type": "stream",
          "name": "stdout",
          "text": [
            "I stay at street: 1443 Brightside at apartment:  Campus Crossing in the city:  Baton Rouge at the state:  Louisiana\n"
          ]
        }
      ]
    },
    {
      "cell_type": "markdown",
      "id": "29",
      "metadata": {
        "id": "29"
      },
      "source": [
        "## Summary\n",
        "\n",
        "String operations are crucial in geospatial programming, especially when dealing with textual geographic data. Mastering these operations will enable you to handle and manipulate geographic information effectively in your projects, whether you're formatting outputs, parsing inputs, or integrating with geospatial databases."
      ]
    }
  ],
  "metadata": {
    "kernelspec": {
      "display_name": "Python 3",
      "language": "python",
      "name": "python3"
    },
    "language_info": {
      "codemirror_mode": {
        "name": "ipython",
        "version": 3
      },
      "file_extension": ".py",
      "mimetype": "text/x-python",
      "name": "python",
      "nbconvert_exporter": "python",
      "pygments_lexer": "ipython3",
      "version": "3.11.8"
    },
    "colab": {
      "provenance": []
    }
  },
  "nbformat": 4,
  "nbformat_minor": 5
}